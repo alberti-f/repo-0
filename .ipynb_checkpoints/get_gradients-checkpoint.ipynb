{
 "cells": [
  {
   "cell_type": "code",
   "execution_count": 15,
   "id": "e500b2ad-1f01-41ee-9036-d40239848b22",
   "metadata": {},
   "outputs": [],
   "source": [
    "import nibabel as nib\n",
    "import numpy as np\n",
    "from scipy import stats\n",
    "import mvlearn\n",
    "from mvlearn import embed\n",
    "import os\n",
    "import pandas as pd\n",
    "import os\n",
    "import re\n",
    "\n",
    "\n",
    "def load_dts(dtseries_path):\n",
    "    dtseries = nib.load(dtseries_path)\n",
    "    \n",
    "    L_model = [x for x in dtseries.header.get_index_map(1).brain_models if x.brain_structure=='CIFTI_STRUCTURE_CORTEX_LEFT']\n",
    "    R_model = [x for x in dtseries.header.get_index_map(1).brain_models if x.brain_structure=='CIFTI_STRUCTURE_CORTEX_RIGHT']\n",
    "    offset_count = [L_model[0].index_offset, L_model[0].index_count,\n",
    "                    R_model[0].index_offset, R_model[0].index_count]\n",
    "    values = dtseries.get_fdata()\n",
    "    values = values[0:,np.append(np.arange(offset_count[0],offset_count[0]+offset_count[1]),np.arange(offset_count[2],offset_count[2]+offset_count[3]))]\n",
    "    return stats.zscore(values, axis=0, nan_policy='omit')\n",
    "\n",
    "\n",
    "def concat_dts(input_dir, output_dir):\n",
    "    sbj_dirs = next(os.walk(input_dir))[1]\n",
    "    sbj_IDs = []\n",
    "    for sbj in sbj_dirs:\n",
    "        print('searching folder:' + sbj)\n",
    "        sbj_tmp = input_dir + sbj\n",
    "        \n",
    "        files = []\n",
    "        try:\n",
    "            for root, dirnames, filenames in os.walk(sbj_tmp):\n",
    "                for file in filenames:\n",
    "                    files.append(os.path.join(root, file))\n",
    "\n",
    "            dts1_lr_path = next((x for x in files if x.endswith('rfMRI_REST1_LR_Atlas_hp2000_clean.dtseries.nii')), None)\n",
    "            dts1_rl_path = next((x for x in files if x.endswith('rfMRI_REST1_RL_Atlas_hp2000_clean.dtseries.nii')), None)\n",
    "            #dts2_lr = next((x for x in files if x.endswith('rfMRI_REST2_LR_Atlas_MSMAll_hp2000_clean.dtseries.nii')), None)\n",
    "            #dts2_rl = next((x for x in files if x.endswith('rfMRI_REST2_RL_Atlas_MSMAll_hp2000_clean.dtseries.nii')), None)\n",
    "            dts1_lr = load_dts(dts1_lr_path)\n",
    "            dts1_rl = load_dts(dts1_lr_path)\n",
    "            dtss_all = np.concatenate([dts1_lr, dts1_rl]).T# , load_dts(dts2_lr) , load_dts(dts2_rl)]).T\n",
    "            \n",
    "            np.save(output_dir + sbj + '_rfMRI_REST1_LR_RL.npy' , dtss_all)\n",
    "            sbj_IDs.append(sbj)\n",
    "            del files , dtss_all , dts1_lr , dts1_rl# , dts2_lr , dts2_rl\n",
    "        except:\n",
    "             print('Something went wrong')\n",
    "    np.save(output_dir+'subject_IDs.npy', sbj_IDs)\n",
    "        "
   ]
  },
  {
   "cell_type": "markdown",
   "id": "980998d6-9253-45de-934d-2560bb98cdd6",
   "metadata": {},
   "source": [
    "concat_dts(\"/home/fralberti/Data/HCP_func/\",\"/home/fralberti/Data/Concatenated_dtseries/\")"
   ]
  },
  {
   "cell_type": "code",
   "execution_count": 4,
   "id": "6f135f45-ea37-4aea-b8e7-143a0b8315d0",
   "metadata": {},
   "outputs": [],
   "source": [
    "sbj_IDs = np.load('/home/fralberti/Data/Concatenated_dtseries/subject_IDs.npy')\n",
    "dtseries_list = [np.load('/home/fralberti/Data/Concatenated_dtseries/%s_rfMRI_REST1_LR_RL.npy' % x) for x in sbj_IDs]\n",
    "\n",
    "gcca = embed.GCCA(n_components=4)\n",
    "res = gcca.fit_transform(dtseries_list)\n",
    "del dtseries_list\n",
    "\n",
    "for i,sbj in enumerate(sbj_IDs):\n",
    "    np.save('/home/fralberti/Data/Gradient_1/%s_grad1.npy' % sbj,res[i,:,0])\n",
    "    \n",
    "del res"
   ]
  },
  {
   "cell_type": "code",
   "execution_count": 5,
   "id": "cfeeb6f2-7e06-475a-9865-8a39458f9ed9",
   "metadata": {},
   "outputs": [
    {
     "name": "stdout",
     "output_type": "stream",
     "text": [
      "['100610_grad1.npy', '101006_grad1.npy', '100408_grad1.npy']\n"
     ]
    },
    {
     "name": "stderr",
     "output_type": "stream",
     "text": [
      "pixdim[1,2,3] should be non-zero; setting 0 dims to 1\n"
     ]
    },
    {
     "name": "stdout",
     "output_type": "stream",
     "text": [
      "100610\n"
     ]
    },
    {
     "name": "stderr",
     "output_type": "stream",
     "text": [
      "pixdim[1,2,3] should be non-zero; setting 0 dims to 1\n"
     ]
    },
    {
     "name": "stdout",
     "output_type": "stream",
     "text": [
      "101006\n"
     ]
    },
    {
     "name": "stderr",
     "output_type": "stream",
     "text": [
      "pixdim[1,2,3] should be non-zero; setting 0 dims to 1\n"
     ]
    },
    {
     "name": "stdout",
     "output_type": "stream",
     "text": [
      "100408\n",
      "[]\n"
     ]
    }
   ],
   "source": [
    "def mk_grad1_dscalar(subject_ID, grad1_npy, template_dscalar, output_dir):\n",
    "\n",
    "    data_length = template_dscalar.shape[1]\n",
    "    data = np.zeros([1,data_length])\n",
    "    data[0,0:grad1_npy.shape[0]] = grad1_npy\n",
    "\n",
    "    ax0 = nib.cifti2.cifti2_axes.ScalarAxis(['Gradient 1'])\n",
    "    ax1 = template_dscalar.header.get_axis(1)\n",
    "    new_img = nib.Cifti2Image(data, header=[ax0, ax1],nifti_header=template_dscalar.nifti_header)\n",
    "    new_img.update_headers()\n",
    "\n",
    "    new_img.to_filename(\"/home/fralberti/Data/Gradient_1/%s_grad1.dscalar.nii\" % subject_ID)\n",
    "    del template_dscalar\n",
    "    \n",
    "    \n",
    "\n",
    "for root, dirs, files in os.walk(\"/home/fralberti/Data/Gradient_1/\"):\n",
    "    npy_files = list(filter(lambda x: re.match('.*\\.npy$', x), files))\n",
    "    for file in npy_files:\n",
    "        subject_ID = file.split(\"_\")[0]\n",
    "        path_to_data = os.path.join(root, file)\n",
    "        grad1_npy = np.load(path_to_data)\n",
    "        template_dscalar = nib.load(\"/home/fralberti/Data/HCP_zone_prim/%s/%s_tfMRI_LANGUAGE_level2_hp200_s12.dscalar.nii\" % (subject_ID,subject_ID))\n",
    "        output_dir = \"/home/fralberti/Data/Gradient_1/\"\n",
    "        \n",
    "        mk_grad1_dscalar(subject_ID, grad1_npy, template_dscalar, output_dir)\n",
    "\n"
   ]
  },
  {
   "cell_type": "code",
   "execution_count": null,
   "id": "eaad8603-64ca-47a3-86f2-dab11c17906b",
   "metadata": {},
   "outputs": [],
   "source": []
  }
 ],
 "metadata": {
  "kernelspec": {
   "display_name": "Python 3 (ipykernel)",
   "language": "python",
   "name": "python3"
  },
  "language_info": {
   "codemirror_mode": {
    "name": "ipython",
    "version": 3
   },
   "file_extension": ".py",
   "mimetype": "text/x-python",
   "name": "python",
   "nbconvert_exporter": "python",
   "pygments_lexer": "ipython3",
   "version": "3.8.11"
  }
 },
 "nbformat": 4,
 "nbformat_minor": 5
}
