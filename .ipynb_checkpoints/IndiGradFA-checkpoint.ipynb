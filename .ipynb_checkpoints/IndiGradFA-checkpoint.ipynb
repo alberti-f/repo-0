{
 "cells": [
  {
   "cell_type": "code",
   "execution_count": 1,
   "id": "84bf0612-9612-442b-9b5a-df79faec6c6e",
   "metadata": {},
   "outputs": [
    {
     "name": "stderr",
     "output_type": "stream",
     "text": [
      "/Users/austin/.local/lib/python3.8/site-packages/nilearn/datasets/__init__.py:93: FutureWarning: Fetchers from the nilearn.datasets module will be updated in version 0.9 to return python strings instead of bytes and Pandas dataframes instead of Numpy arrays.\n",
      "  warn(\"Fetchers from the nilearn.datasets module will be \"\n",
      "pixdim[1,2,3] should be non-zero; setting 0 dims to 1\n"
     ]
    }
   ],
   "source": [
    "import nibabel as nib\n",
    "import numpy as np\n",
    "import glob\n",
    "import matplotlib.pyplot as plt\n",
    "from mvlearn.embed import GCCA # To install: \n",
    "%matplotlib inline\n",
    "import nilearn.plotting as plotting\n",
    "import subprocess as sp\n",
    "import hcp_utils as hcp"
   ]
  },
  {
   "cell_type": "code",
   "execution_count": 2,
   "id": "3428dc68-9e35-4435-8a7a-71ae5b2e1cee",
   "metadata": {},
   "outputs": [
    {
     "name": "stdout",
     "output_type": "stream",
     "text": [
      "3\n"
     ]
    }
   ],
   "source": [
    "subjList = open(\"goodSubjlist.txt\", \"r\")\n",
    "subjs = subjList.read().split('\\n')\n",
    "#### set number of jobs as variable. doubles as number of input subjects to do at once \n",
    "subjs=subjs[0:3]\n",
    "print(len(subjs))"
   ]
  },
  {
   "cell_type": "code",
   "execution_count": 3,
   "id": "962abd8c-d9e6-4c27-981a-513c2f2af970",
   "metadata": {},
   "outputs": [],
   "source": [
    "#### save gifti file out. we'll output to intermediate gifti before using wb_command to convert to cifti \n",
    "def save_gifti(data,out):\n",
    "    gi = nib.gifti.GiftiImage()\n",
    "    da = nib.gifti.GiftiDataArray(np.float32(data), intent=0)\n",
    "    gi.add_gifti_data_array(da)\n",
    "    nib.save(gi,f'{out}.func.gii')"
   ]
  },
  {
   "cell_type": "code",
   "execution_count": 4,
   "id": "ef573358-7050-4829-9f7a-aab24bfe5a36",
   "metadata": {},
   "outputs": [],
   "source": [
    "#### do the spatial smoothing of your cifti files\n",
    "#### edit these paths to fit the server structure. \n",
    "#### should just be minor edits of outer directories\n",
    "def smooth_ciftis(subj,kernel):\n",
    "        Lstr=glob.glob(f'Structural/{subj}/MNINonLinear/fsaverage_LR32k/{subj}.L.midthickness_MSMAll.32k_fs_LR.surf.gii')\n",
    "        Rstr=glob.glob(f'Structural/{subj}/MNINonLinear/fsaverage_LR32k/{subj}.R.midthickness_MSMAll.32k_fs_LR.surf.gii')\n",
    "        func=glob.glob(f'Rest/{subj}/MNINonLinear/Results/*/*clean.dtseries.nii')\n",
    "#         print(Lstr)\n",
    "#         print(Rstr)\n",
    "        for j in func:\n",
    "#             print(j)\n",
    "            out=j.split('.dtseries.nii')[0]+'_smooth.dtseries.nii'\n",
    "            #### for runing on the server generate list of commands and then batch jobs to do all at once\n",
    "            sp.run(f'wb_command -cifti-smoothing {j} {kernel} {kernel} COLUMN {out} -left-surface {Lstr[0]} -right-surface {Rstr[0]} ',shell=True)\n",
    "            \n",
    "    "
   ]
  },
  {
   "cell_type": "code",
   "execution_count": 9,
   "id": "5af2f1b6-6105-416f-8ed3-757c96d5bac3",
   "metadata": {},
   "outputs": [
    {
     "name": "stdout",
     "output_type": "stream",
     "text": [
      "103414\n",
      "105014\n",
      "105115\n"
     ]
    }
   ],
   "source": [
    "#### in a server pipeline we should send these out as individual jobs\n",
    "for i in subjs:\n",
    "    print(i)\n",
    "    smooth_ciftis(i,6.0) # |pipe it to run on cluster"
   ]
  },
  {
   "cell_type": "code",
   "execution_count": 10,
   "id": "11130f52-f6b6-46d9-88ea-137fe7fbbb79",
   "metadata": {},
   "outputs": [],
   "source": [
    "def fullTs(funcs):\n",
    "    ### function takes a list of functional runs corresponding to a given subject \n",
    "    Ldat=[]\n",
    "    Rdat=[]\n",
    "    for cifti in funcs:\n",
    "#         print(cifti)\n",
    "        img=nib.load(cifti).get_fdata()\n",
    "        img=hcp.normalize(img)\n",
    "        Ldat.append(img[:, hcp.struct.cortex_left].T)\n",
    "        Rdat.append(img[:, hcp.struct.cortex_right].T)\n",
    "    Lcort=np.hstack(Ldat)\n",
    "    Loffset=len(Lcort)\n",
    "    Rcort=np.hstack(Rdat)\n",
    "    \n",
    "    cortTs=np.vstack([Lcort,Rcort])\n",
    "    \n",
    "    return cortTs\n",
    "        \n",
    "        "
   ]
  },
  {
   "cell_type": "code",
   "execution_count": null,
   "id": "4e842b45-4393-4212-ae45-57e23f779fd2",
   "metadata": {},
   "outputs": [],
   "source": []
  },
  {
   "cell_type": "code",
   "execution_count": null,
   "id": "b90144c8-19f5-425b-ae8a-c6bbad488a02",
   "metadata": {},
   "outputs": [],
   "source": []
  },
  {
   "cell_type": "code",
   "execution_count": null,
   "id": "3de61450-b267-4f24-bdcc-c5ee11445aed",
   "metadata": {},
   "outputs": [],
   "source": []
  },
  {
   "cell_type": "code",
   "execution_count": 11,
   "id": "110c5eb6-2bd9-44b9-8a13-c82d9ec75854",
   "metadata": {},
   "outputs": [
    {
     "name": "stdout",
     "output_type": "stream",
     "text": [
      "103414\n",
      "['Rest/103414/MNINonLinear/Results/rfMRI_REST1_LR/rfMRI_REST1_LR_Atlas_MSMAll_hp2000_cleansmooth.dtseries.nii', 'Rest/103414/MNINonLinear/Results/rfMRI_REST1_RL/rfMRI_REST1_RL_Atlas_MSMAll_hp2000_cleansmooth.dtseries.nii', 'Rest/103414/MNINonLinear/Results/rfMRI_REST2_RL/rfMRI_REST2_RL_Atlas_MSMAll_hp2000_cleansmooth.dtseries.nii', 'Rest/103414/MNINonLinear/Results/rfMRI_REST2_LR/rfMRI_REST2_LR_Atlas_MSMAll_hp2000_cleansmooth.dtseries.nii']\n",
      "\n",
      "\n",
      "105014\n",
      "['Rest/105014/MNINonLinear/Results/rfMRI_REST1_LR/rfMRI_REST1_LR_Atlas_MSMAll_hp2000_cleansmooth.dtseries.nii', 'Rest/105014/MNINonLinear/Results/rfMRI_REST1_RL/rfMRI_REST1_RL_Atlas_MSMAll_hp2000_cleansmooth.dtseries.nii', 'Rest/105014/MNINonLinear/Results/rfMRI_REST2_RL/rfMRI_REST2_RL_Atlas_MSMAll_hp2000_cleansmooth.dtseries.nii', 'Rest/105014/MNINonLinear/Results/rfMRI_REST2_LR/rfMRI_REST2_LR_Atlas_MSMAll_hp2000_cleansmooth.dtseries.nii']\n",
      "\n",
      "\n",
      "105115\n",
      "['Rest/105115/MNINonLinear/Results/rfMRI_REST1_LR/rfMRI_REST1_LR_Atlas_MSMAll_hp2000_cleansmooth.dtseries.nii', 'Rest/105115/MNINonLinear/Results/rfMRI_REST1_RL/rfMRI_REST1_RL_Atlas_MSMAll_hp2000_cleansmooth.dtseries.nii', 'Rest/105115/MNINonLinear/Results/rfMRI_REST2_RL/rfMRI_REST2_RL_Atlas_MSMAll_hp2000_cleansmooth.dtseries.nii', 'Rest/105115/MNINonLinear/Results/rfMRI_REST2_LR/rfMRI_REST2_LR_Atlas_MSMAll_hp2000_cleansmooth.dtseries.nii']\n",
      "\n",
      "\n"
     ]
    }
   ],
   "source": [
    "##### can set up to load batches of subjects and launch in parallel\n",
    "\n",
    "subjs=dict.fromkeys(subjs)\n",
    "\n",
    "# cortTsGroup=[]\n",
    "#### set up multiple subjects time courses for the gcaa\n",
    "for sub in subjs.keys():\n",
    "    print(sub)\n",
    "    func=glob.glob(f'Rest/{sub}/MNINonLinear/Results/*/*_smooth.dtseries.nii') \n",
    "    ### can be sent to cluster as multiple jobs\n",
    "    ### however job results must be loaded into a single list for the GCAA \n",
    "    ### save intermediates? or create dictionary to fill as diff\n",
    "    print(func)\n",
    "    print('\\n')\n",
    "    subjs[sub]=fullTs(func)    "
   ]
  },
  {
   "cell_type": "code",
   "execution_count": null,
   "id": "6dd7b3cc-0831-416a-ae3c-8ff9c300a043",
   "metadata": {},
   "outputs": [],
   "source": []
  },
  {
   "cell_type": "code",
   "execution_count": 12,
   "id": "b7f737b8-1920-40f8-b26d-dacfcc5619df",
   "metadata": {},
   "outputs": [],
   "source": [
    "def run_gcaa(data,comps):\n",
    "    gcca = GCCA(n_components=comps)\n",
    "    if len(data)==1:\n",
    "        raise ValueError('a list of 2 or more subjects is required to run GCAA')\n",
    "    else:\n",
    "        print('running gcaa')\n",
    "        gcca.fit(data)\n",
    "        return gcca.transform(data)\n",
    "    \n"
   ]
  },
  {
   "cell_type": "code",
   "execution_count": 13,
   "id": "9b82bdee-7439-4018-9607-0c0d117c8a5f",
   "metadata": {},
   "outputs": [
    {
     "name": "stdout",
     "output_type": "stream",
     "text": [
      "running gcaa\n"
     ]
    }
   ],
   "source": [
    "out=run_gcaa(list(subjs.values()),5)"
   ]
  },
  {
   "cell_type": "code",
   "execution_count": 16,
   "id": "aacfc59f-8177-4729-970b-efcf7add54c1",
   "metadata": {},
   "outputs": [
    {
     "name": "stdout",
     "output_type": "stream",
     "text": [
      "103414\n",
      "105014\n",
      "105115\n"
     ]
    }
   ],
   "source": [
    "#### save the gradients of each subject in it's associated dictionary and get ready to save as giftis. \n",
    "for i in range(out.shape[0]):\n",
    "    sub=list(subjs.keys())[i]\n",
    "    print(sub)\n",
    "    grads=[]\n",
    "    for j in range(out.shape[2]):\n",
    "        grads.append(hcp.cortex_data(out[i,:,j]))\n",
    "    subjs[sub]=np.vstack(grads).T\n",
    "#     subjs[list(subjs.keys())[i]]=hcp.cortex_data(out[i,:,:])"
   ]
  },
  {
   "cell_type": "code",
   "execution_count": 17,
   "id": "88f40993-80e7-4e11-8f53-e62cab8bb310",
   "metadata": {},
   "outputs": [],
   "source": [
    "#### here is where we want to output each dictionary entry into a cifti\n",
    "def mk_grad1_dscalar(subject_ID, grads, template_cifti, output_dir):\n",
    "    # subject_ID: string array e.g. \"100206\"\n",
    "    # grads: array with dimensions gradients X vertices\n",
    "    # template_cifti: any cifti2 file with a BrainModelAxis (I am using one of the dtseries.nii)\n",
    "    # output_dir: path to output directory\n",
    "\n",
    "    data = np.zeros([grads.shape[0],template_cifti.shape[1]])\n",
    "    data[0:,0:grads.shape[1]] = grads\n",
    "    \n",
    "    map_labels = [f'Gradient{i}' for i in range(grads.shape[0])]\n",
    "    ax0 = nib.cifti2.cifti2_axes.ScalarAxis(map_labels)\n",
    "    ax1 = template_cifti.header.get_axis(1)\n",
    "    new_img = nib.Cifti2Image(data, header=[ax0, ax1],nifti_header=template_cifti.nifti_header)\n",
    "    new_img.update_headers()\n",
    "\n",
    "    new_img.to_filename(\"%s%s_grad.dscalar.nii\" % (output_dir,subject_ID))\n",
    "    del template_cifti\n"
   ]
  },
  {
   "cell_type": "code",
   "execution_count": null,
   "id": "3561663f-ec41-4a35-912f-b5759d6f83e0",
   "metadata": {},
   "outputs": [],
   "source": [
    "### Save gradients as scalar\n",
    "for i,subj in enumerate(subjList):\n",
    "    template = nib.load(f'Rest/{subj}/MNINonLinear/Results/rfMRI_REST1_LR/*_smooth.dtseries.nii')\n",
    "    mk_grad1_dscalar(list(subjs.keys())[i], out[i,0:,0:].squeeze().T, template, '/home/fralberti/git_repos/')"
   ]
  },
  {
   "cell_type": "code",
   "execution_count": 27,
   "id": "604bbfdd-bbae-4c8c-ac5e-5fab7b5a66fd",
   "metadata": {},
   "outputs": [],
   "source": [
    "L=subjs['103414'][0:32492]\n",
    "R=subjs['103414'][32492:]"
   ]
  },
  {
   "cell_type": "code",
   "execution_count": null,
   "id": "572c34c5-2b8c-4c1a-a69d-17c61a6069c5",
   "metadata": {},
   "outputs": [],
   "source": []
  },
  {
   "cell_type": "code",
   "execution_count": null,
   "id": "90b1b614-5285-4188-b2c5-443cbd6acf61",
   "metadata": {},
   "outputs": [],
   "source": [
    "save_gifti(subjs['103414'][0:int(len(subjs['103414'])/2)],'L.test')"
   ]
  },
  {
   "cell_type": "code",
   "execution_count": null,
   "id": "08aae5f5-c81e-47ff-bc88-bc3ed47592ee",
   "metadata": {},
   "outputs": [],
   "source": [
    "\n",
    "hcp.cortex_data(out[0,:,3],fill=0)"
   ]
  },
  {
   "cell_type": "code",
   "execution_count": null,
   "id": "0873b873-3657-41a3-8e78-38f6e7953884",
   "metadata": {},
   "outputs": [],
   "source": [
    "subjs['103414'].shape"
   ]
  },
  {
   "cell_type": "code",
   "execution_count": null,
   "id": "1551ad7a-6f85-4bdf-a9cf-515dd56fb10e",
   "metadata": {},
   "outputs": [],
   "source": []
  },
  {
   "cell_type": "code",
   "execution_count": null,
   "id": "c39ff9b5-e26f-45b2-8f83-88fdee6273cf",
   "metadata": {},
   "outputs": [],
   "source": [
    "save_gifti(tst[0:int(len(tst)/2)],'L.G1.subj1TsT')\n",
    "save_gifti(tst[int(len(tst)/2):],'R.G1.subj1TsT')"
   ]
  },
  {
   "cell_type": "code",
   "execution_count": null,
   "id": "0b7e1d6c-de43-4f9f-9181-0ed48a721db3",
   "metadata": {},
   "outputs": [],
   "source": []
  },
  {
   "cell_type": "code",
   "execution_count": null,
   "id": "cd69e735-a257-4043-953b-fec35b0d8eee",
   "metadata": {},
   "outputs": [],
   "source": []
  },
  {
   "cell_type": "code",
   "execution_count": null,
   "id": "2d669443-305f-4df9-ba2b-0037d9d64c4c",
   "metadata": {},
   "outputs": [],
   "source": []
  },
  {
   "cell_type": "code",
   "execution_count": null,
   "id": "e17bb483-f84f-425f-922d-be6f3d27470a",
   "metadata": {},
   "outputs": [],
   "source": []
  }
 ],
 "metadata": {
  "kernelspec": {
   "display_name": "Python 3 (ipykernel)",
   "language": "python",
   "name": "python3"
  },
  "language_info": {
   "codemirror_mode": {
    "name": "ipython",
    "version": 3
   },
   "file_extension": ".py",
   "mimetype": "text/x-python",
   "name": "python",
   "nbconvert_exporter": "python",
   "pygments_lexer": "ipython3",
   "version": "3.8.11"
  }
 },
 "nbformat": 4,
 "nbformat_minor": 5
}
