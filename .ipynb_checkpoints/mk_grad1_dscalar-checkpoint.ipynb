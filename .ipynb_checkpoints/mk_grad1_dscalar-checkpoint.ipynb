{
 "cells": [
  {
   "cell_type": "code",
   "execution_count": null,
   "id": "b557146d-fdae-42fa-8fbb-d058000f25ad",
   "metadata": {},
   "outputs": [],
   "source": [
    "# Generate the .dscalar image of gradient 1 using brain models from a template file\n",
    "def mk_grad1_dscalar(subject_ID, grad1_npy, template_dscalar, output_dir):\n",
    "    #this could be done using hcp_utils\n",
    "    data_length = template_dscalar.shape[1]\n",
    "    data = np.zeros([1,data_length])\n",
    "    data[0,0:grad1_npy.shape[0]] = grad1_npy\n",
    "\n",
    "    ax0 = nib.cifti2.cifti2_axes.ScalarAxis(['Gradient 1'])\n",
    "    ax1 = template_dscalar.header.get_axis(1)\n",
    "    new_img = nib.Cifti2Image(data, header=[ax0, ax1],nifti_header=template_dscalar.nifti_header)\n",
    "    new_img.update_headers()\n",
    "\n",
    "    new_img.to_filename(\"%s%s_grad1.dscalar.nii\" % (output_dir,subject_ID))\n",
    "    del template_dscalar\n",
    "    "
   ]
  }
 ],
 "metadata": {
  "kernelspec": {
   "display_name": "Python 3 (ipykernel)",
   "language": "python",
   "name": "python3"
  },
  "language_info": {
   "codemirror_mode": {
    "name": "ipython",
    "version": 3
   },
   "file_extension": ".py",
   "mimetype": "text/x-python",
   "name": "python",
   "nbconvert_exporter": "python",
   "pygments_lexer": "ipython3",
   "version": "3.8.11"
  }
 },
 "nbformat": 4,
 "nbformat_minor": 5
}
