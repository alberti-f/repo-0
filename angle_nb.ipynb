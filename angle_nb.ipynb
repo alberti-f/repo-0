{
 "cells": [
  {
   "cell_type": "code",
   "execution_count": 1,
   "id": "05ad4be2-6be3-4d5d-a63a-19bc86b30293",
   "metadata": {},
   "outputs": [
    {
     "name": "stderr",
     "output_type": "stream",
     "text": [
      "/home/fralberti/.local/lib/python3.8/site-packages/nilearn/datasets/__init__.py:93: FutureWarning: Fetchers from the nilearn.datasets module will be updated in version 0.9 to return python strings instead of bytes and Pandas dataframes instead of Numpy arrays.\n",
      "  warn(\"Fetchers from the nilearn.datasets module will be \"\n",
      "pixdim[1,2,3] should be non-zero; setting 0 dims to 1\n",
      "/home/fralberti/anaconda3/lib/python3.8/site-packages/statsmodels/compat/pandas.py:61: FutureWarning: pandas.Int64Index is deprecated and will be removed from pandas in a future version. Use pandas.Index with the appropriate dtype instead.\n",
      "  from pandas import Int64Index as NumericIndex\n"
     ]
    }
   ],
   "source": [
    "import nibabel as nib\n",
    "import numpy as np\n",
    "import pandas as pd\n",
    "import gdist as gd\n",
    "import ciftools_af as ct\n",
    "import subprocess as sp\n",
    "import statsmodels.api as sm\n",
    "from statsmodels.stats.anova import AnovaRM\n",
    "from statsmodels.stats.multicomp import pairwise_tukeyhsd\n",
    "from scipy import stats\n",
    "\n",
    "\n",
    "def vec2ang(x,y,degrees=False):\n",
    "    ''' calculate angle of a vector given its x and y components'''\n",
    "    vector_1 = [x, y]\n",
    "    vector_2 = [np.abs(x), 0]\n",
    "\n",
    "    unit_vector_1 = vector_1 / np.linalg.norm(vector_1)\n",
    "    unit_vector_2 = vector_2 / np.linalg.norm(vector_2)\n",
    "    dot_product = np.dot(unit_vector_1, unit_vector_2)\n",
    "    angle = np.deg2rad(360) - np.arccos(dot_product) # to calculate angle anti-clockwise\n",
    "    if degrees:\n",
    "        angle = np.rad2deg(angle)\n",
    "    return angle"
   ]
  },
  {
   "cell_type": "code",
   "execution_count": 2,
   "id": "bb9f858b-2a96-41c2-b458-51980c19ca86",
   "metadata": {},
   "outputs": [],
   "source": [
    "### VARIABLES TO SET BEFORE RUNNING\n",
    "# directory containing subdirectories named after subject IDs that contain the timeseries and surface files\n",
    "root_dir = \"/home/fralberti/Data/HCP/\"\n",
    "# directory where all intermediate files and the final output will be saved\n",
    "output_dir = \"/home/fralberti/Data/Output_misc/\"\n",
    "# list of IDs of subjects to include in the analyses\n",
    "f = open(f'{root_dir}subj_IDs_200.txt', 'r')\n",
    "subj_id = np.array(f.read().splitlines())\n",
    "del f"
   ]
  },
  {
   "cell_type": "code",
   "execution_count": null,
   "id": "890236cf-c27a-4ea7-a8e0-8f49137b4fc7",
   "metadata": {},
   "outputs": [],
   "source": [
    "### GET GRADIENT PEAK\n",
    "### Find the transmodal peak of the principal gradient in the lateral parietal area\n",
    "\n",
    "peaks_df = pd.DataFrame(columns=['ID','hemisphere','peak','gradient_1'])\n",
    "for subj in subj_id:\n",
    "    grad = nib.load(f'{root_dir}{subj}/{subj}.gcca_200.32k_fs_LR.dscalar.nii')\n",
    "    zones = nib.load(f'{root_dir}/HCP_S1200_GroupAvg_v1/zones.watershed.dlabel.nii')\n",
    "    for hemi in ['L','R']:\n",
    "        brain_structure = ['CIFTI_STRUCTURE_CORTEX_LEFT' if hemi=='L' else 'CIFTI_STRUCTURE_CORTEX_RIGHT'][0]\n",
    "        offset, count, vertices = ct.struct_info(brain_structure, grad)\n",
    "        # define a mask to limit peak search to the lateral parietal and occipital cortex\n",
    "        z = [2 if hemi=='L' else 3][0]\n",
    "        zone = zones.get_fdata()[20, offset : offset+count] == z\n",
    "        # select vertices within the zone\n",
    "        vtx_zone = vertices[zone]\n",
    "        grad_zone = grad.get_fdata()[0, offset : offset+count][zone]\n",
    "        # find vertex with the highest gradient value and its gradient score\n",
    "        peak = vtx_zone[np.argmax(grad_zone)]\n",
    "        grad_peak = grad_zone[np.argmax(grad_zone)]\n",
    "        peaks_df =  peaks_df.append({'ID':subj, 'hemisphere':hemi, 'peak':peak,'gradient_1':grad_peak}, ignore_index=True)\n",
    "    del grad\n",
    "    \n",
    "peaks_df.to_csv(f'{output_dir}grad1_lPAR_peaks.csv', index=False)"
   ]
  },
  {
   "cell_type": "code",
   "execution_count": null,
   "id": "c695da72-5d77-40a2-a81c-196e81afebad",
   "metadata": {},
   "outputs": [],
   "source": [
    "### COMPUTE VECTOR LENGTH AND ANGLE\n",
    "junction_df = pd.read_csv(f\"{output_dir}gradientiles_200.csv\")\n",
    "junction_df = junction_df.loc[junction_df.ID_vtx==junction_df.ID_grad,['ID_vtx','hemisphere','vertex1','vertex2','vertex3']].reset_index(drop=True)\n",
    "peak_df = pd.read_csv(f'{output_dir}grad1_zone2_peak.csv',index_col='ID')\n",
    "\n",
    "\n",
    "vector_out = pd.DataFrame([],columns=['ID', 'hemisphere', 'Xv', 'Yv', 'distance', 'magnitude', 'angle'])\n",
    "for subj in subj_id:\n",
    "    for hemi in ['L','R']:\n",
    "        # Find cetroid of the intersection triangle\n",
    "        surface = nib.load(f'{root_dir}{subj}/Structural/{subj}.{hemi}.flat.32k_fs_LR.surf.gii')\n",
    "        junct_vtx = junction_df.loc[(junction_df.ID_vtx==int(subj)) & (junction_df.hemisphere==hemi)]\n",
    "        junct_vtx = np.array(junct_vtx.iloc[0,2:5], dtype='int32')\n",
    "        junct_coord = np.array(surface.darrays[0].data)[junct_vtx,0:2]\n",
    "        centroid_coord = junct_coord.mean(axis=0)\n",
    "        \n",
    "        # Get coordinates of the peak vertex\n",
    "        subj_peaks = peak_df.loc[int(subj)]\n",
    "        peak_vtx = np.array(subj_peaks.loc[subj_peaks.hemisphere==hemi , 'peak'], dtype='int32')\n",
    "        peak_coord = np.array(surface.darrays[0].data)[peak_vtx,0:2]\n",
    "        \n",
    "        # Get geodesic distance\n",
    "        vertices = np.float64(surface.darrays[0].data)\n",
    "        triangles = np.int32(surface.darrays[1].data)\n",
    "        dist = gd.compute_gdist(vertices, triangles, source_indices=junct_vtx, target_indices=peak_vtx)\n",
    "        \n",
    "        # Calculate angle\n",
    "        v = (peak_coord - centroid_coord)[0]\n",
    "        angle = vec2ang(v[0],v[1])\n",
    "        \n",
    "        # Get magnitude\n",
    "        magtd = np.sqrt(np.power(v,2).sum())\n",
    "\n",
    "        # Add to output\n",
    "        vector_out = vector_out.append({'ID':subj, 'hemisphere':hemi, 'Xv':v[0], 'Yv':v[1],\n",
    "                                        'distance':np.mean(dist), 'magnitude':magtd, 'angle':angle}, ignore_index=True)\n",
    "vector_out.to_csv(f'{output_dir}/center_peak_vector.csv')"
   ]
  }
 ],
 "metadata": {
  "kernelspec": {
   "display_name": "Python 3 (ipykernel)",
   "language": "python",
   "name": "python3"
  },
  "language_info": {
   "codemirror_mode": {
    "name": "ipython",
    "version": 3
   },
   "file_extension": ".py",
   "mimetype": "text/x-python",
   "name": "python",
   "nbconvert_exporter": "python",
   "pygments_lexer": "ipython3",
   "version": "3.8.11"
  }
 },
 "nbformat": 4,
 "nbformat_minor": 5
}
