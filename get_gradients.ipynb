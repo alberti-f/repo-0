{
 "cells": [
  {
   "cell_type": "code",
   "execution_count": 3,
   "id": "e500b2ad-1f01-41ee-9036-d40239848b22",
   "metadata": {},
   "outputs": [
    {
     "name": "stderr",
     "output_type": "stream",
     "text": [
      "/home/fralberti/.local/lib/python3.8/site-packages/nilearn/datasets/__init__.py:93: FutureWarning: Fetchers from the nilearn.datasets module will be updated in version 0.9 to return python strings instead of bytes and Pandas dataframes instead of Numpy arrays.\n",
      "  warn(\"Fetchers from the nilearn.datasets module will be \"\n",
      "pixdim[1,2,3] should be non-zero; setting 0 dims to 1\n"
     ]
    }
   ],
   "source": [
    "import nibabel as nib\n",
    "import numpy as np\n",
    "from scipy import stats\n",
    "import mvlearn\n",
    "from mvlearn import embed\n",
    "import pandas as pd\n",
    "import os\n",
    "import re\n",
    "import subprocess as sp\n",
    "import glob\n",
    "import hcp_utils as hcp\n",
    "import ciftools_af as ct\n",
    "\n",
    "\n",
    "### Smooth time series using wb_command\n",
    "def smooth_dtseries(in_dtseries, out_dtseries, kernel, L_surface, R_surface):\n",
    "    sp.run(f'wb_command -cifti-smoothing {in_dtseries} -fwhm {kernel} {kernel} \\\n",
    "    COLUMN {out_dtseries} -left-surface {L_surface} -right-surface {R_surface}',shell=True)\n",
    "    \n",
    "\n",
    "### Load the time series of the L and R hemisphere \n",
    "def load_dtseries(dtseries_path):\n",
    "    # load the file\n",
    "    dtseries = nib.load(dtseries_path)\n",
    "    # find the offset and number of vertices for each hemisphere\n",
    "    L_model = [x for x in dtseries.header.get_index_map(1).brain_models if x.brain_structure=='CIFTI_STRUCTURE_CORTEX_LEFT']\n",
    "    R_model = [x for x in dtseries.header.get_index_map(1).brain_models if x.brain_structure=='CIFTI_STRUCTURE_CORTEX_RIGHT']\n",
    "    offset_count = [L_model[0].index_offset, L_model[0].index_count,\n",
    "                    R_model[0].index_offset, R_model[0].index_count]\n",
    "    # extract the cortical timeseries\n",
    "    values = dtseries.get_fdata()\n",
    "    values = values[0:,np.append(np.arange(offset_count[0],offset_count[0]+offset_count[1]),np.arange(offset_count[2],offset_count[2]+offset_count[3]))]\n",
    "    \n",
    "    return values\n",
    "\n",
    "\n",
    "### Z-score and conatenation of dtseries of all subject folders in a directory\n",
    "def concat_dtseries(paths_to_dtseries):\n",
    "    if len(paths_to_dtseries)<2:\n",
    "        print(f'At least 2 time series are needed: {len(paths_to_dtseries)} found')\n",
    "    dtseries_lst = [load_dtseries(path) for path in paths_to_dtseries]\n",
    "    dtseries_lst = [hcp.normalize(dtseries) for dtseries in dtseries_lst]\n",
    "        \n",
    "    return np.concatenate(dtseries_lst)\n",
    "\n",
    "\n",
    "### Store gradients in cifti2 dscalar.nii\n",
    "def mk_grad1_dscalar(grads, template_cifti, output_dir):\n",
    "    # grads: array with dimensions gradients X vertices\n",
    "    # template_cifti: any cifti2 file with a BrainModelAxis (I am using one of the dtseries.nii)\n",
    "    # output_dir: path to output directory\n",
    "    data = np.zeros([grads.shape[0],template_cifti.shape[1]])\n",
    "    data[0:,0:grads.shape[1]] = grads\n",
    "\n",
    "    map_labels = [f'Measure {i+1}' for i in range(grads.shape[0])]\n",
    "    ax0 = nib.cifti2.cifti2_axes.ScalarAxis(map_labels)\n",
    "    ax1 = nib.cifti2.cifti2_axes.from_index_mapping(template_cifti.header.get_index_map(1))\n",
    "    nifti_hdr = template_cifti.nifti_header\n",
    "    del template_cifti\n",
    "    \n",
    "    new_img = nib.Cifti2Image(data, header=[ax0, ax1],nifti_header=nifti_hdr)\n",
    "    new_img.update_headers()\n",
    "\n",
    "    new_img.to_filename(output_dir)\n",
    "    "
   ]
  },
  {
   "cell_type": "code",
   "execution_count": 4,
   "id": "92ae439a-95af-43b1-b1f6-05e61c40b12f",
   "metadata": {},
   "outputs": [],
   "source": [
    "### VARIABLES TO SET BEFORE RUNNING\n",
    "# directory containing subdirectories named fter subject IDs that contain the timeseries and surface files\n",
    "root_dir = \"/home/fralberti/Data/HCP/\"\n",
    "# directory where all intermediate files and the final output will be saved\n",
    "output_dir = \"/home/fralberti/Data/Gradientile/\"\n",
    "# list of IDs of subjects to include in the analyses\n",
    "f = open(f'{root_dir}subj_IDs.txt', 'r')\n",
    "subj_id = np.array(f.read().splitlines()[0:51])\n",
    "del f"
   ]
  },
  {
   "cell_type": "code",
   "execution_count": 3,
   "id": "cd9a8b26-daea-46c6-8ba2-f30b01366004",
   "metadata": {},
   "outputs": [
    {
     "name": "stdout",
     "output_type": "stream",
     "text": [
      "Smoothing time series\n",
      "Current subject:\n",
      "\t1/51\t100206\n",
      "\t2/51\t100307\n",
      "\t3/51\t100408\n",
      "\t4/51\t100610\n",
      "\t5/51\t101006\n",
      "\t6/51\t101107\n",
      "\t7/51\t101309\n",
      "\t8/51\t101410\n"
     ]
    },
    {
     "name": "stderr",
     "output_type": "stream",
     "text": [
      "\n",
      "While running:\n",
      "wb_command -cifti-smoothing '/home/fralberti/Data/HCP/101410/Rest/*rfMRI_REST2_LR_Atlas_MSMAll_hp2000_clean.dtseries.nii' -fwhm 6 6 COLUMN '/home/fralberti/Data/HCP/101410/Rest/*rfMRI_REST2_LR_Atlas_MSMAll_hp2000_clean_smooth6.dtseries.nii' -left-surface /home/fralberti/Data/HCP/101410/Structural/101410.L.midthickness_MSMAll.32k_fs_LR.surf.gii -right-surface /home/fralberti/Data/HCP/101410/Structural/101410.R.midthickness_MSMAll.32k_fs_LR.surf.gii\n",
      "\n",
      "ERROR: failed to open file '/home/fralberti/Data/HCP/101410/Rest/*rfMRI_REST2_LR_Atlas_MSMAll_hp2000_clean.dtseries.nii', file does not exist, or folder permissions prevent seeing it\n",
      "\n",
      "\n",
      "While running:\n",
      "wb_command -cifti-smoothing '/home/fralberti/Data/HCP/101410/Rest/*rfMRI_REST2_RL_Atlas_MSMAll_hp2000_clean.dtseries.nii' -fwhm 6 6 COLUMN '/home/fralberti/Data/HCP/101410/Rest/*rfMRI_REST2_RL_Atlas_MSMAll_hp2000_clean_smooth6.dtseries.nii' -left-surface /home/fralberti/Data/HCP/101410/Structural/101410.L.midthickness_MSMAll.32k_fs_LR.surf.gii -right-surface /home/fralberti/Data/HCP/101410/Structural/101410.R.midthickness_MSMAll.32k_fs_LR.surf.gii\n",
      "\n",
      "ERROR: failed to open file '/home/fralberti/Data/HCP/101410/Rest/*rfMRI_REST2_RL_Atlas_MSMAll_hp2000_clean.dtseries.nii', file does not exist, or folder permissions prevent seeing it\n",
      "\n"
     ]
    },
    {
     "name": "stdout",
     "output_type": "stream",
     "text": [
      "\t9/51\t101915\n",
      "\t10/51\t102008\n",
      "\t11/51\t102109\n",
      "\t12/51\t102311\n",
      "\t13/51\t102513\n",
      "\t14/51\t102614\n",
      "\t15/51\t102715\n",
      "\t16/51\t102816\n",
      "\t17/51\t103010\n",
      "\t18/51\t103111\n",
      "\t19/51\t103212\n",
      "\t20/51\t103414\n",
      "\t21/51\t103515\n",
      "\t22/51\t103818\n",
      "\t23/51\t104012\n",
      "\t24/51\t104416\n",
      "\t25/51\t104820\n",
      "\t26/51\t105014\n",
      "\t27/51\t105115\n",
      "\t28/51\t105216\n",
      "\t29/51\t105620\n",
      "\t30/51\t105923\n",
      "\t31/51\t106016\n",
      "\t32/51\t106319\n",
      "\t33/51\t106521\n",
      "\t34/51\t106824\n",
      "\t35/51\t107018\n",
      "\t36/51\t107220\n"
     ]
    },
    {
     "name": "stderr",
     "output_type": "stream",
     "text": [
      "\n",
      "While running:\n",
      "wb_command -cifti-smoothing '/home/fralberti/Data/HCP/107220/Rest/*rfMRI_REST2_LR_Atlas_MSMAll_hp2000_clean.dtseries.nii' -fwhm 6 6 COLUMN '/home/fralberti/Data/HCP/107220/Rest/*rfMRI_REST2_LR_Atlas_MSMAll_hp2000_clean_smooth6.dtseries.nii' -left-surface /home/fralberti/Data/HCP/107220/Structural/107220.L.midthickness_MSMAll.32k_fs_LR.surf.gii -right-surface /home/fralberti/Data/HCP/107220/Structural/107220.R.midthickness_MSMAll.32k_fs_LR.surf.gii\n",
      "\n",
      "ERROR: failed to open file '/home/fralberti/Data/HCP/107220/Rest/*rfMRI_REST2_LR_Atlas_MSMAll_hp2000_clean.dtseries.nii', file does not exist, or folder permissions prevent seeing it\n",
      "\n",
      "\n",
      "While running:\n",
      "wb_command -cifti-smoothing '/home/fralberti/Data/HCP/107220/Rest/*rfMRI_REST2_RL_Atlas_MSMAll_hp2000_clean.dtseries.nii' -fwhm 6 6 COLUMN '/home/fralberti/Data/HCP/107220/Rest/*rfMRI_REST2_RL_Atlas_MSMAll_hp2000_clean_smooth6.dtseries.nii' -left-surface /home/fralberti/Data/HCP/107220/Structural/107220.L.midthickness_MSMAll.32k_fs_LR.surf.gii -right-surface /home/fralberti/Data/HCP/107220/Structural/107220.R.midthickness_MSMAll.32k_fs_LR.surf.gii\n",
      "\n",
      "ERROR: failed to open file '/home/fralberti/Data/HCP/107220/Rest/*rfMRI_REST2_RL_Atlas_MSMAll_hp2000_clean.dtseries.nii', file does not exist, or folder permissions prevent seeing it\n",
      "\n"
     ]
    },
    {
     "name": "stdout",
     "output_type": "stream",
     "text": [
      "\t37/51\t107321\n",
      "\t38/51\t107422\n",
      "\t39/51\t107725\n",
      "\t40/51\t108020\n",
      "\t41/51\t108121\n",
      "\t42/51\t108222\n",
      "\t43/51\t108323\n",
      "\t44/51\t108525\n",
      "\t45/51\t108828\n",
      "\t46/51\t109123\n",
      "\t47/51\t109325\n",
      "\t48/51\t109830\n",
      "\t49/51\t110007\n",
      "\t50/51\t110411\n",
      "\t51/51\t110613\n",
      "Done!\n"
     ]
    }
   ],
   "source": [
    "### Smooth time series\n",
    "kernel = 6\n",
    "\n",
    "print('Smoothing time series\\nCurrent subject:')\n",
    "for i,subj in enumerate(subj_id):\n",
    "    acquisitions = ['rfMRI_REST1_LR','rfMRI_REST1_RL','rfMRI_REST2_LR','rfMRI_REST2_RL']\n",
    "    print(f'\\t{i+1}/{len(subj_id)}\\t{subj}')\n",
    "    for acq_tmp in acquisitions:\n",
    "        in_dtseries = f'{root_dir}{subj}/Rest/*{acq_tmp}_Atlas_MSMAll_hp2000_clean.dtseries.nii'\n",
    "        out_dtseries = f'{root_dir}{subj}/Rest/*{acq_tmp}_Atlas_MSMAll_hp2000_clean_smooth{kernel}.dtseries.nii'\n",
    "        L_surface = f'{root_dir}{subj}/Structural/{subj}.L.midthickness_MSMAll.32k_fs_LR.surf.gii'\n",
    "        R_surface = f'{root_dir}{subj}/Structural/{subj}.R.midthickness_MSMAll.32k_fs_LR.surf.gii'\n",
    "        \n",
    "        smooth_dtseries(in_dtseries, out_dtseries, kernel, L_surface, R_surface)\n",
    "print('Done!')"
   ]
  },
  {
   "cell_type": "code",
   "execution_count": 4,
   "id": "bfe58dfe-5191-4700-9b73-433d87e07320",
   "metadata": {},
   "outputs": [
    {
     "name": "stdout",
     "output_type": "stream",
     "text": [
      "Concatenating smoothed time series\n",
      "Current subject:\n",
      "\t100206\n",
      "\t100307\n",
      "\t100408\n",
      "\t100610\n",
      "\t101006\n",
      "\t101107\n",
      "\t101309\n",
      "\t101410\n",
      "\t101915\n",
      "\t102008\n",
      "\t102109\n",
      "\t102311\n",
      "\t102513\n",
      "\t102614\n",
      "\t102715\n",
      "\t102816\n",
      "\t103010\n",
      "\t103111\n",
      "\t103212\n",
      "\t103414\n",
      "\t103515\n",
      "\t103818\n",
      "\t104012\n",
      "\t104416\n",
      "\t104820\n",
      "\t105014\n",
      "\t105115\n",
      "\t105216\n",
      "\t105620\n",
      "\t105923\n",
      "\t106016\n",
      "\t106319\n",
      "\t106521\n",
      "\t106824\n",
      "\t107018\n",
      "\t107220\n",
      "\t107321\n",
      "\t107422\n",
      "\t107725\n",
      "\t108020\n",
      "\t108121\n",
      "\t108222\n",
      "\t108323\n",
      "\t108525\n",
      "\t108828\n",
      "\t109123\n",
      "\t109325\n",
      "\t109830\n",
      "\t110007\n",
      "\t110411\n",
      "\t110613\n",
      "Done!\n"
     ]
    }
   ],
   "source": [
    "### Normalize and conatenate time series\n",
    "print('Concatenating smoothed time series\\nCurrent subject:')\n",
    "for subj in subj_id:\n",
    "    print(f'\\t{subj}')\n",
    "    paths_to_dtseries = glob.glob(f'{root_dir}{subj}/Rest/*REST1*_smooth6.dtseries.nii')\n",
    "    dtseries_out = concat_dtseries(paths_to_dtseries)\n",
    "    np.save(f'{root_dir}{subj}/Rest/REST1_full_s6.npy',dtseries_out)\n",
    "    del dtseries_out\n",
    "print('Done!')"
   ]
  },
  {
   "cell_type": "code",
   "execution_count": 3,
   "id": "6f135f45-ea37-4aea-b8e7-143a0b8315d0",
   "metadata": {
    "tags": []
   },
   "outputs": [
    {
     "name": "stdout",
     "output_type": "stream",
     "text": [
      "Running GCCA\n",
      "Current batch:\n",
      "\t['100206' '100307' '100408']\n"
     ]
    },
    {
     "name": "stderr",
     "output_type": "stream",
     "text": [
      "pixdim[1,2,3] should be non-zero; setting 0 dims to 1\n"
     ]
    },
    {
     "name": "stdout",
     "output_type": "stream",
     "text": [
      "\t['100610' '101006' '101107']\n"
     ]
    },
    {
     "name": "stderr",
     "output_type": "stream",
     "text": [
      "pixdim[1,2,3] should be non-zero; setting 0 dims to 1\n"
     ]
    },
    {
     "name": "stdout",
     "output_type": "stream",
     "text": [
      "\t['101309' '101410' '101915']\n",
      "\t['102008' '102109' '102311']\n"
     ]
    },
    {
     "name": "stderr",
     "output_type": "stream",
     "text": [
      "pixdim[1,2,3] should be non-zero; setting 0 dims to 1\n"
     ]
    },
    {
     "name": "stdout",
     "output_type": "stream",
     "text": [
      "\t['102513' '102614' '102715']\n"
     ]
    },
    {
     "name": "stderr",
     "output_type": "stream",
     "text": [
      "pixdim[1,2,3] should be non-zero; setting 0 dims to 1\n",
      "pixdim[1,2,3] should be non-zero; setting 0 dims to 1\n",
      "pixdim[1,2,3] should be non-zero; setting 0 dims to 1\n"
     ]
    },
    {
     "name": "stdout",
     "output_type": "stream",
     "text": [
      "\t['102816' '103010' '103111']\n"
     ]
    },
    {
     "name": "stderr",
     "output_type": "stream",
     "text": [
      "pixdim[1,2,3] should be non-zero; setting 0 dims to 1\n"
     ]
    },
    {
     "name": "stdout",
     "output_type": "stream",
     "text": [
      "\t['103212' '103414' '103515']\n"
     ]
    },
    {
     "name": "stderr",
     "output_type": "stream",
     "text": [
      "pixdim[1,2,3] should be non-zero; setting 0 dims to 1\n"
     ]
    },
    {
     "name": "stdout",
     "output_type": "stream",
     "text": [
      "\t['103818' '104012' '104416']\n"
     ]
    },
    {
     "name": "stderr",
     "output_type": "stream",
     "text": [
      "pixdim[1,2,3] should be non-zero; setting 0 dims to 1\n",
      "pixdim[1,2,3] should be non-zero; setting 0 dims to 1\n"
     ]
    },
    {
     "name": "stdout",
     "output_type": "stream",
     "text": [
      "\t['104820' '105014' '105115']\n",
      "\t['105216' '105620' '105923']\n"
     ]
    },
    {
     "name": "stderr",
     "output_type": "stream",
     "text": [
      "pixdim[1,2,3] should be non-zero; setting 0 dims to 1\n",
      "pixdim[1,2,3] should be non-zero; setting 0 dims to 1\n"
     ]
    },
    {
     "name": "stdout",
     "output_type": "stream",
     "text": [
      "\t['106016' '106319' '106521']\n",
      "\t['106824' '107018' '107220']\n"
     ]
    },
    {
     "name": "stderr",
     "output_type": "stream",
     "text": [
      "pixdim[1,2,3] should be non-zero; setting 0 dims to 1\n",
      "pixdim[1,2,3] should be non-zero; setting 0 dims to 1\n",
      "pixdim[1,2,3] should be non-zero; setting 0 dims to 1\n"
     ]
    },
    {
     "name": "stdout",
     "output_type": "stream",
     "text": [
      "\t['107321' '107422' '107725']\n"
     ]
    },
    {
     "name": "stderr",
     "output_type": "stream",
     "text": [
      "pixdim[1,2,3] should be non-zero; setting 0 dims to 1\n"
     ]
    },
    {
     "name": "stdout",
     "output_type": "stream",
     "text": [
      "\t['108020' '108121' '108222']\n"
     ]
    },
    {
     "name": "stderr",
     "output_type": "stream",
     "text": [
      "pixdim[1,2,3] should be non-zero; setting 0 dims to 1\n",
      "pixdim[1,2,3] should be non-zero; setting 0 dims to 1\n"
     ]
    },
    {
     "name": "stdout",
     "output_type": "stream",
     "text": [
      "\t['108323' '108525' '108828']\n",
      "\t['109123' '109325' '109830']\n"
     ]
    },
    {
     "name": "stderr",
     "output_type": "stream",
     "text": [
      "pixdim[1,2,3] should be non-zero; setting 0 dims to 1\n"
     ]
    },
    {
     "name": "stdout",
     "output_type": "stream",
     "text": [
      "\t['110007' '110411' '110613']\n"
     ]
    },
    {
     "name": "stderr",
     "output_type": "stream",
     "text": [
      "pixdim[1,2,3] should be non-zero; setting 0 dims to 1\n",
      "pixdim[1,2,3] should be non-zero; setting 0 dims to 1\n"
     ]
    },
    {
     "name": "stdout",
     "output_type": "stream",
     "text": [
      "Done!\n"
     ]
    }
   ],
   "source": [
    "### Compute GCCA\n",
    "batch_size = 3\n",
    "batch_num = int(len(subj_id)/batch_size)\n",
    "batches = [np.arange(x,x+batch_size) for x in np.arange(0,len(subj_id),batch_size)]\n",
    "\n",
    "print(\"Running GCCA\\nCurrent batch:\")\n",
    "for batch_tmp in batches:\n",
    "    print(f'\\t{subj_id[batch_tmp]}')\n",
    "    \n",
    "    dtseries_batch = [np.array(np.load(f'{root_dir}{subj}/Rest/REST1_full_s6.npy')).T for subj in subj_id[batch_tmp]]\n",
    "    res = embed.GCCA(n_components=10)\n",
    "    res = res.fit_transform(dtseries_batch)\n",
    "    del dtseries_batch\n",
    "\n",
    "    for i,subj in enumerate(subj_id[batch_tmp]):\n",
    "        template_cifti = nib.load(f'{root_dir}{subj}/Structural/{subj}.aparc.32k_fs_LR.dlabel.nii')\n",
    "        grads = res[i,:,:].T\n",
    "        mk_grad1_dscalar(grads, template_cifti, f'{root_dir}{subj}/{subj}.REST1_GCCA_s6.32k_fs_LR.dscalar.nii')\n",
    "        del template_cifti\n",
    "    del res\n",
    "\n",
    "print(\"Done!\")"
   ]
  },
  {
   "cell_type": "code",
   "execution_count": null,
   "id": "09595ca2-9289-4517-b442-bdf5e3e27405",
   "metadata": {},
   "outputs": [],
   "source": [
    "### Compute GCCA\n",
    "batch_size = 2\n",
    "batch_num = int(len(subj_id)/batch_size)\n",
    "batches = [np.arange(x,x+batch_size) for x in np.arange(0,len(subj_id),batch_size)]\n",
    "\n",
    "gcca = embed.GCCA(n_components=3, tall=True) # try save gcca out\n",
    "print(\"Running GCCA on batch:\")\n",
    "# for batch_tmp in batches:\n",
    "for subj in subj_id:\n",
    "    print(f'\\t{subj}')\n",
    "    Xs = np.load(f'{root_dir}{subj}/Rest/REST1_full_s6.npy').T\n",
    "    onoff = [True if subj==subj_id[-1] else False][0]\n",
    "    gcca.partial_fit(Xs, multiview_step=onoff)\n",
    "    del Xs\n",
    "    \n",
    "for i,subj in enumerate(subj_id):\n",
    "    print(f'\\t{subj}')\n",
    "\n",
    "    X = np.load(f'{root_dir}{subj}/Rest/REST1_full_s6.npy').T\n",
    "    grads = gcca.transform(X,view_idx=i)\n",
    "    grads = grads.T\n",
    "    template_cifti = nib.load(f'{root_dir}{subj}/Structural/{subj}.aparc.32k_fs_LR.dlabel.nii')\n",
    "    ct.save_dscalar(grads, template_cifti, f'{root_dir}{subj}/{subj}.REST1_GCCA_s6.32k_fs_LR.dscalar.nii')\n",
    "    \n",
    "    del template_cifti, grads\n",
    "\n",
    "print(\"Done!\")"
   ]
  },
  {
   "cell_type": "code",
   "execution_count": 5,
   "id": "148d3285-a440-4fa9-99e1-744e2a796cbf",
   "metadata": {},
   "outputs": [],
   "source": [
    "## Invert gradients to allign across subject (if needed)\n",
    "subj_to_invert = subj_id\n",
    "\n",
    "for subj in subj_to_invert:\n",
    "    grads = nib.load(f'{root_dir}{subj}/{subj}.REST1_GCCA_s6.32k_fs_LR.dscalar.nii')\n",
    "    grads_inv = -1*grads.get_fdata()\n",
    "    ct.save_dscalar(grads_inv, grads, f'{root_dir}{subj}/{subj}.GCCA_s6.32k_fs_LR.dscalar.nii', names=['Gradient 1', 'Gradient 2', 'Gradient 3'])"
   ]
  }
 ],
 "metadata": {
  "kernelspec": {
   "display_name": "Python 3 (ipykernel)",
   "language": "python",
   "name": "python3"
  },
  "language_info": {
   "codemirror_mode": {
    "name": "ipython",
    "version": 3
   },
   "file_extension": ".py",
   "mimetype": "text/x-python",
   "name": "python",
   "nbconvert_exporter": "python",
   "pygments_lexer": "ipython3",
   "version": "3.8.11"
  }
 },
 "nbformat": 4,
 "nbformat_minor": 5
}
